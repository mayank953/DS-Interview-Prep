{
 "cells": [
  {
   "cell_type": "markdown",
   "id": "4ba22817-0a3f-4641-8ddc-6a7d96de7135",
   "metadata": {},
   "source": [
    "# Data Science Behavioural Questions"
   ]
  },
  {
   "cell_type": "markdown",
   "id": "ae892b30-b37a-4c3e-9773-5f8565dbb556",
   "metadata": {},
   "source": [
    "1. Can you describe a time when you had to work on a project with tight deadlines? How did you prioritize tasks and ensure timely delivery?\n",
    "2. Tell me about a challenging data analysis problem you encountered. How did you approach it and what was the outcome?\n",
    "3. Give an example of a time when you had to communicate complex technical findings to non-technical stakeholders. How did you ensure clarity and understanding?\n",
    "4. Describe a situation where you had to deal with conflicting opinions or feedback from team members during a data project. How did you address this conflict?\n",
    "5. Can you share an experience where you had to adapt to unexpected changes or setbacks in a data analysis project? How did you handle it?\n",
    "6. Tell me about a time when you had to collaborate with colleagues from different departments or backgrounds on a data-related initiative. How did you ensure effective teamwork and communication?\n",
    "7. Describe a successful data-driven decision you contributed to in your previous role. What was your role in the decision-making process and what impact did it have?\n",
    "8. Give an example of a time when you faced a technical problem or obstacle during a data project. How did you troubleshoot and find a solution?\n",
    "9. Tell me about a time when you had to handle sensitive or confidential data. How did you ensure security and compliance while working with it?\n",
    "10. Describe a situation where you had to balance the trade-offs between accuracy and speed in a data analysis task. How did you make decisions in such situations?"
   ]
  },
  {
   "cell_type": "code",
   "execution_count": null,
   "id": "030c8efb-63d8-42f4-bc4b-b5075882baae",
   "metadata": {},
   "outputs": [],
   "source": []
  },
  {
   "cell_type": "code",
   "execution_count": null,
   "id": "da04c38b-bc08-4b73-aa6b-afb47c0d73d3",
   "metadata": {},
   "outputs": [],
   "source": []
  },
  {
   "cell_type": "markdown",
   "id": "ec078570-1f42-4e51-9d5b-6438839ebc8d",
   "metadata": {},
   "source": [
    "# Common Questions Behavioural"
   ]
  },
  {
   "cell_type": "markdown",
   "id": "aa5559f9-9936-4e92-a03b-0843f1ccc3b7",
   "metadata": {},
   "source": [
    "1. Tell me about yourself\n",
    "2. Strength weakness\n",
    "3. Short term goal and long term goal\n",
    "4. Why are you leaving your current company\n",
    "5. Walk me down your CV\n",
    "6. Tell me about a time where you made a mistake and how did you handle the same ?"
   ]
  }
 ],
 "metadata": {
  "kernelspec": {
   "display_name": "Python 3 (ipykernel)",
   "language": "python",
   "name": "python3"
  },
  "language_info": {
   "codemirror_mode": {
    "name": "ipython",
    "version": 3
   },
   "file_extension": ".py",
   "mimetype": "text/x-python",
   "name": "python",
   "nbconvert_exporter": "python",
   "pygments_lexer": "ipython3",
   "version": "3.11.7"
  }
 },
 "nbformat": 4,
 "nbformat_minor": 5
}
