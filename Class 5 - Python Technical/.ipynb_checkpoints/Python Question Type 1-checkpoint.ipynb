{
 "cells": [
  {
   "cell_type": "markdown",
   "id": "20795f02-1b2f-461f-9bb9-d4f21916cac2",
   "metadata": {},
   "source": [
    "# I will also provide you with a pdf tonight for the general questions that are asked here."
   ]
  },
  {
   "cell_type": "code",
   "execution_count": null,
   "id": "ed9ea080-e637-4483-8651-61ce01c87904",
   "metadata": {},
   "outputs": [],
   "source": [
    "1. Why python is knows as interpreted language ?\n",
    "2. Why is python slower than C/C++ ?\n",
    "3. What are reserved words in Python ?\n",
    "4. What are loops present in python ?\n",
    "5. What is the use case of id \n"
   ]
  },
  {
   "cell_type": "code",
   "execution_count": 3,
   "id": "eabbc629-0adf-47f8-93e2-13c3317fe774",
   "metadata": {
    "tags": []
   },
   "outputs": [
    {
     "data": {
      "text/plain": [
       "512"
      ]
     },
     "execution_count": 3,
     "metadata": {},
     "output_type": "execute_result"
    }
   ],
   "source": [
    "2 ** 3 ** 2 # associativity of Operators\n"
   ]
  },
  {
   "cell_type": "code",
   "execution_count": null,
   "id": "5bc5e8ae-6e26-4c1d-bf9e-70872b422529",
   "metadata": {},
   "outputs": [],
   "source": []
  },
  {
   "cell_type": "code",
   "execution_count": 4,
   "id": "00e97046-c2ea-4fc1-82f4-794d1d5cc406",
   "metadata": {
    "tags": []
   },
   "outputs": [
    {
     "ename": "SyntaxError",
     "evalue": "invalid syntax (128370410.py, line 1)",
     "output_type": "error",
     "traceback": [
      "\u001b[0;36m  Cell \u001b[0;32mIn[4], line 1\u001b[0;36m\u001b[0m\n\u001b[0;31m    5. Can we create Custom Exception in python ? How ?\u001b[0m\n\u001b[0m       ^\u001b[0m\n\u001b[0;31mSyntaxError\u001b[0m\u001b[0;31m:\u001b[0m invalid syntax\n"
     ]
    }
   ],
   "source": [
    "5. Can we create Custom Exception in python ? How ?\n",
    "6. Create a Custom Context Manager without using contextlib ?\n",
    "7. What are magic/dunder function ?  __str__\n",
    "8. Why is finally used in error handling ?\n",
    "9. Take 2 list and find their MSE ?\n",
    "10. What is static methods  ? What is super() ?\n",
    "11. What is the difference between abstraction and encapsulation ?\n",
    "12. Is function overloading supported in python ?"
   ]
  },
  {
   "cell_type": "code",
   "execution_count": 5,
   "id": "2d22079f-3767-4e9e-9635-6809e09e385e",
   "metadata": {
    "tags": []
   },
   "outputs": [
    {
     "ename": "ModuleNotFoundError",
     "evalue": "No module named 'ifjai'",
     "output_type": "error",
     "traceback": [
      "\u001b[0;31m---------------------------------------------------------------------------\u001b[0m",
      "\u001b[0;31mModuleNotFoundError\u001b[0m                       Traceback (most recent call last)",
      "Cell \u001b[0;32mIn[5], line 1\u001b[0m\n\u001b[0;32m----> 1\u001b[0m \u001b[38;5;28;01mimport\u001b[39;00m \u001b[38;5;21;01mifjai\u001b[39;00m\n",
      "\u001b[0;31mModuleNotFoundError\u001b[0m: No module named 'ifjai'"
     ]
    }
   ],
   "source": [
    "import "
   ]
  },
  {
   "cell_type": "code",
   "execution_count": 6,
   "id": "85e88180-d661-4b68-898e-d86283f977c1",
   "metadata": {
    "tags": []
   },
   "outputs": [],
   "source": [
    "import abc"
   ]
  },
  {
   "cell_type": "code",
   "execution_count": null,
   "id": "62f9db93-550d-4107-a889-3cbf1280940c",
   "metadata": {},
   "outputs": [],
   "source": []
  },
  {
   "cell_type": "code",
   "execution_count": 7,
   "id": "81a186af-116d-432e-936f-62218bb7f6ae",
   "metadata": {
    "tags": []
   },
   "outputs": [],
   "source": [
    "def sum (a,b):\n",
    "    return a+b\n"
   ]
  },
  {
   "cell_type": "code",
   "execution_count": 8,
   "id": "7159235f-220a-4e04-b8a1-950f31f40ae9",
   "metadata": {
    "tags": []
   },
   "outputs": [],
   "source": [
    "def sum(a,b,c):\n",
    "    return a+b+c"
   ]
  },
  {
   "cell_type": "code",
   "execution_count": 9,
   "id": "51b691d0-5482-42d7-9f35-00a2956ca2b0",
   "metadata": {
    "tags": []
   },
   "outputs": [
    {
     "data": {
      "text/plain": [
       "6"
      ]
     },
     "execution_count": 9,
     "metadata": {},
     "output_type": "execute_result"
    }
   ],
   "source": [
    "sum(1,2,3)"
   ]
  },
  {
   "cell_type": "code",
   "execution_count": 10,
   "id": "f29f397a-16fa-4fc2-919a-cb49497173de",
   "metadata": {
    "tags": []
   },
   "outputs": [
    {
     "ename": "TypeError",
     "evalue": "sum() missing 1 required positional argument: 'c'",
     "output_type": "error",
     "traceback": [
      "\u001b[0;31m---------------------------------------------------------------------------\u001b[0m",
      "\u001b[0;31mTypeError\u001b[0m                                 Traceback (most recent call last)",
      "Cell \u001b[0;32mIn[10], line 1\u001b[0m\n\u001b[0;32m----> 1\u001b[0m \u001b[38;5;28msum\u001b[39m(\u001b[38;5;241m1\u001b[39m,\u001b[38;5;241m2\u001b[39m)\n",
      "\u001b[0;31mTypeError\u001b[0m: sum() missing 1 required positional argument: 'c'"
     ]
    }
   ],
   "source": [
    "sum(1,2)"
   ]
  },
  {
   "cell_type": "code",
   "execution_count": null,
   "id": "8c786405-7c14-4364-85cb-04c875712514",
   "metadata": {},
   "outputs": [],
   "source": []
  },
  {
   "cell_type": "code",
   "execution_count": 11,
   "id": "0b08b487-c040-4de3-ae89-c4ad536dbbc6",
   "metadata": {
    "tags": []
   },
   "outputs": [
    {
     "data": {
      "text/plain": [
       "'123'"
      ]
     },
     "execution_count": 11,
     "metadata": {},
     "output_type": "execute_result"
    }
   ],
   "source": [
    "# WAP to check if a year is a leap or year not ?"
   ]
  },
  {
   "cell_type": "code",
   "execution_count": null,
   "id": "eaa49969-149c-447b-ada4-20cdd7bb711c",
   "metadata": {},
   "outputs": [],
   "source": []
  },
  {
   "cell_type": "code",
   "execution_count": 13,
   "id": "5844cdad-06d1-4c0c-9cc8-30c0d6ad52e6",
   "metadata": {
    "tags": []
   },
   "outputs": [
    {
     "data": {
      "text/plain": [
       "datetime.datetime(2024, 5, 11, 11, 24, 55, 239597)"
      ]
     },
     "execution_count": 13,
     "metadata": {},
     "output_type": "execute_result"
    }
   ],
   "source": [
    "import datetime\n",
    "\n",
    "datetime.datetime.now() \n",
    "\n",
    "# we are on a break for 7 minutes."
   ]
  },
  {
   "cell_type": "code",
   "execution_count": null,
   "id": "1fa70c82-820e-43a8-8b4c-ce2878105bcf",
   "metadata": {},
   "outputs": [],
   "source": [
    "# Question 2: Implementing a Function to Flatten a Nested List\n",
    "\n",
    "def flatten_list(nested_lst):\n",
    "    \"\"\"\n",
    "    Design a Python function named `flatten_list` to flatten a nested list into a single list.\n",
    "\n",
    "    Parameters:\n",
    "    - nested_lst: Nested list (list)\n",
    "\n",
    "    Returns:\n",
    "    - Flattened list (list)\n",
    "\n",
    "    Test Cases:\n",
    "    Test Case 1:\n",
    "    assert flatten_list([[1, 2, 3], [4, 5], [6, 7, 8]]) == [1, 2, 3, 4, 5, 6, 7, 8]\n",
    "\n",
    "    Test Case 2:\n",
    "    assert flatten_list([[1, 2], [3, [4, 5]], [6], [7, 8, [9, 10]]]) == [1, 2, 3, 4, 5, 6, 7, 8, 9, 10]\n",
    "\n",
    "    Test Case 3:\n",
    "    # Additional test cases can be added here\n",
    "    pass\n",
    "\n",
    "\"\"\""
   ]
  },
  {
   "cell_type": "code",
   "execution_count": null,
   "id": "ed87ed09-8887-42aa-b414-3c191cfc433d",
   "metadata": {},
   "outputs": [],
   "source": [
    "l1 = [1,2,3"
   ]
  },
  {
   "cell_type": "code",
   "execution_count": 23,
   "id": "7dee3e0b-5730-4af6-b8a2-8274b1034d9d",
   "metadata": {
    "tags": []
   },
   "outputs": [],
   "source": [
    "\n",
    "def flatten_list(nested_lst):\n",
    "    ans = []\n",
    "    for elem in nested_lst:\n",
    "        if(isinstance(elem,list)):\n",
    "            sans = flatten_list(elem)\n",
    "            ans.extend(sans)\n",
    "        else:\n",
    "            ans.append(elem)\n",
    "    \n",
    "    return ans"
   ]
  },
  {
   "cell_type": "code",
   "execution_count": 24,
   "id": "f7f2e3df-217b-4c10-8986-be998f3d7fa4",
   "metadata": {
    "tags": []
   },
   "outputs": [
    {
     "data": {
      "text/plain": [
       "[1, 2, 3, 4, 5, 6, 7, 8]"
      ]
     },
     "execution_count": 24,
     "metadata": {},
     "output_type": "execute_result"
    }
   ],
   "source": [
    "flatten_list([[1, 2, 3], [4, 5], [6, 7, 8]])"
   ]
  },
  {
   "cell_type": "code",
   "execution_count": 25,
   "id": "84d7c784-eb35-46df-bd8b-446ac7a3d341",
   "metadata": {
    "tags": []
   },
   "outputs": [
    {
     "data": {
      "text/plain": [
       "[1, 2, 3, 4, 5, 6, 7, 8, 9, 10]"
      ]
     },
     "execution_count": 25,
     "metadata": {},
     "output_type": "execute_result"
    }
   ],
   "source": [
    "flatten_list([[1, 2], [3, [4, 5]], [6], [7, 8, [9, 10]]])"
   ]
  },
  {
   "cell_type": "code",
   "execution_count": 17,
   "id": "ca59e1e7-7a44-4aa9-b46a-e7834715e1f6",
   "metadata": {
    "tags": []
   },
   "outputs": [
    {
     "ename": "AssertionError",
     "evalue": "",
     "output_type": "error",
     "traceback": [
      "\u001b[0;31m---------------------------------------------------------------------------\u001b[0m",
      "\u001b[0;31mAssertionError\u001b[0m                            Traceback (most recent call last)",
      "Cell \u001b[0;32mIn[17], line 1\u001b[0m\n\u001b[0;32m----> 1\u001b[0m \u001b[38;5;28;01massert\u001b[39;00m flatten_list([[\u001b[38;5;241m1\u001b[39m, \u001b[38;5;241m2\u001b[39m, \u001b[38;5;241m3\u001b[39m], [\u001b[38;5;241m4\u001b[39m, \u001b[38;5;241m5\u001b[39m], [\u001b[38;5;241m6\u001b[39m, \u001b[38;5;241m7\u001b[39m, \u001b[38;5;241m8\u001b[39m]]) \u001b[38;5;241m==\u001b[39m [\u001b[38;5;241m1\u001b[39m, \u001b[38;5;241m2\u001b[39m, \u001b[38;5;241m3\u001b[39m, \u001b[38;5;241m4\u001b[39m, \u001b[38;5;241m5\u001b[39m, \u001b[38;5;241m6\u001b[39m, \u001b[38;5;241m7\u001b[39m, \u001b[38;5;241m8\u001b[39m]\n\u001b[1;32m      3\u001b[0m     \u001b[38;5;66;03m#Test Case 2:\u001b[39;00m\n\u001b[1;32m      4\u001b[0m \u001b[38;5;28;01massert\u001b[39;00m flatten_list([[\u001b[38;5;241m1\u001b[39m, \u001b[38;5;241m2\u001b[39m], [\u001b[38;5;241m3\u001b[39m, [\u001b[38;5;241m4\u001b[39m, \u001b[38;5;241m5\u001b[39m]], [\u001b[38;5;241m6\u001b[39m], [\u001b[38;5;241m7\u001b[39m, \u001b[38;5;241m8\u001b[39m, [\u001b[38;5;241m9\u001b[39m, \u001b[38;5;241m10\u001b[39m]]]) \u001b[38;5;241m==\u001b[39m [\u001b[38;5;241m1\u001b[39m, \u001b[38;5;241m2\u001b[39m, \u001b[38;5;241m3\u001b[39m, \u001b[38;5;241m4\u001b[39m, \u001b[38;5;241m5\u001b[39m, \u001b[38;5;241m6\u001b[39m, \u001b[38;5;241m7\u001b[39m, \u001b[38;5;241m8\u001b[39m, \u001b[38;5;241m9\u001b[39m, \u001b[38;5;241m10\u001b[39m]\n",
      "\u001b[0;31mAssertionError\u001b[0m: "
     ]
    }
   ],
   "source": [
    "assert flatten_list([[1, 2, 3], [4, 5], [6, 7, 8]]) == [1, 2, 3, 4, 5, 6, 7, 8]\n",
    "\n",
    "    #Test Case 2:\n",
    "assert flatten_list([[1, 2], [3, [4, 5]], [6], [7, 8, [9, 10]]]) == [1, 2, 3, 4, 5, 6, 7, 8, 9, 10]"
   ]
  }
 ],
 "metadata": {
  "kernelspec": {
   "display_name": "Python 3 (ipykernel)",
   "language": "python",
   "name": "python3"
  },
  "language_info": {
   "codemirror_mode": {
    "name": "ipython",
    "version": 3
   },
   "file_extension": ".py",
   "mimetype": "text/x-python",
   "name": "python",
   "nbconvert_exporter": "python",
   "pygments_lexer": "ipython3",
   "version": "3.11.5"
  }
 },
 "nbformat": 4,
 "nbformat_minor": 5
}
