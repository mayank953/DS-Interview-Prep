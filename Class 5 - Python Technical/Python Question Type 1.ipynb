{
 "cells": [
  {
   "cell_type": "markdown",
   "id": "20795f02-1b2f-461f-9bb9-d4f21916cac2",
   "metadata": {},
   "source": [
    "# I will also provide you with a pdf tonight for the general questions that are asked here."
   ]
  },
  {
   "cell_type": "raw",
   "id": "f4eb4277-3430-4d00-a8d1-626176a8386a",
   "metadata": {
    "tags": []
   },
   "source": [
    "1. Why python is knows as interpreted language ?\n",
    "2. Why is python slower than C/C++ ?\n",
    "3. What are reserved words in Python ?\n",
    "4. What are loops present in python ?\n",
    "5. What is the use case of id  ?\n",
    "6. What are identifiers in python ?\n",
    "7. What is the size provided to int data type in python ? # no limit or dynamic\n",
    "8. What is the min and max limit of int data type ? # no limit\n",
    "\n",
    "9.  Can we create Custom Exception in python ? How ?\n",
    "10. Create a Custom Context Manager without using contextlib ?\n",
    "11. What are magic/dunder function ?  __str__\n",
    "12. Why is finally used in error handling ?\n",
    "13. Take 2 list and find their MSE ?\n",
    "14. What is static methods  ? What is super() ?\n",
    "15. What is the difference between abstraction and encapsulation ?\n",
    "16. Is function overloading supported in python ?"
   ]
  },
  {
   "cell_type": "code",
   "execution_count": 17,
   "id": "a3208f4b-8b6d-410c-88ad-835806200e0b",
   "metadata": {
    "tags": []
   },
   "outputs": [
    {
     "ename": "SyntaxError",
     "evalue": "invalid syntax (3286116494.py, line 6)",
     "output_type": "error",
     "traceback": [
      "\u001b[0;36m  Cell \u001b[0;32mIn[17], line 6\u001b[0;36m\u001b[0m\n\u001b[0;31m    My variable name can start with\u001b[0m\n\u001b[0m       ^\u001b[0m\n\u001b[0;31mSyntaxError\u001b[0m\u001b[0;31m:\u001b[0m invalid syntax\n"
     ]
    }
   ],
   "source": [
    "a-z\n",
    "A-Z\n",
    "0-9\n",
    "_\n",
    "\n",
    "My variable name can start with \n",
    "\n"
   ]
  },
  {
   "cell_type": "code",
   "execution_count": 27,
   "id": "94e77278-35b2-4dc3-a908-72aec89d453c",
   "metadata": {
    "tags": []
   },
   "outputs": [
    {
     "name": "stdout",
     "output_type": "stream",
     "text": [
      "28\n",
      "44\n"
     ]
    }
   ],
   "source": [
    "from sys import getsizeof\n",
    "\n",
    "int1 = 54\n",
    "print(getsizeof(int1))\n",
    "int1 = 5782305781305701750182750813750812705821\n",
    "print(getsizeof(int1))"
   ]
  },
  {
   "cell_type": "code",
   "execution_count": 24,
   "id": "4996affa-cbe5-4586-9bc2-85b02de2ee40",
   "metadata": {
    "tags": []
   },
   "outputs": [
    {
     "data": {
      "text/plain": [
       "5782305781305701750182750813750812705821"
      ]
     },
     "execution_count": 24,
     "metadata": {},
     "output_type": "execute_result"
    }
   ],
   "source": [
    "int1"
   ]
  },
  {
   "cell_type": "markdown",
   "id": "4a09fdf4-e064-4ece-a657-7d75eaab3914",
   "metadata": {
    "tags": []
   },
   "source": [
    "### Identifiers in Python\n",
    "\n",
    "Identifiers in Python are names given to various elements in a program, such as variables, functions, classes, etc. These names are used to uniquely identify these elements within the program.\n",
    "\n",
    "#### Permitted Conditions for Naming Identifiers:\n",
    "\n",
    "Identifiers in Python must adhere to certain rules and conventions for naming. Here are the permitted conditions for naming identifiers:\n",
    "\n",
    "\n",
    "1. **Start with a Letter (a-z, A-Z) or Underscore (_):**\n",
    "   - Identifiers can begin with a letter (both lowercase and uppercase) or an underscore.\n",
    "   - Examples: `variable`, `_variable`, `Function`, `_Function`\n",
    "\n",
    "2. **Followed by Letters (a-z, A-Z), Digits (0-9), or Underscores (_):**\n",
    "   - After the first character, identifiers can contain letters (both lowercase and uppercase), digits, or underscores.\n",
    "   - Examples: `variable1`, `Var_2`, `function_name_3`\n",
    "\n",
    "3. **Cannot Start with a Digit (0-9):**\n",
    "   - Identifiers cannot start with a digit.\n",
    "   - Examples: `1variable` (Invalid), `2nd_function` (Invalid)\n",
    "\n",
    "4. **Cannot Contain Special Characters (e.g., @, $, %, &, etc.):**\n",
    "   - Identifiers cannot contain special characters except for the underscore (_).\n",
    "   - Examples: `var@iable` (Invalid), `my$variable` (Invalid)\n",
    "\n",
    "5. **Case-Sensitive:**\n",
    "   - Python identifiers are case-sensitive, meaning `variable` and `Variable` are considered as two different identifiers.\n",
    "   - Examples: `variable`, `Variable`\n",
    "\n",
    "**Examples of Permitted Identifiers:**\n"
   ]
  },
  {
   "cell_type": "code",
   "execution_count": 16,
   "id": "07715e83-774a-41b0-86d9-54aa3b8b52d0",
   "metadata": {
    "tags": []
   },
   "outputs": [],
   "source": [
    "_=5"
   ]
  },
  {
   "cell_type": "code",
   "execution_count": 3,
   "id": "eabbc629-0adf-47f8-93e2-13c3317fe774",
   "metadata": {
    "tags": []
   },
   "outputs": [
    {
     "data": {
      "text/plain": [
       "512"
      ]
     },
     "execution_count": 3,
     "metadata": {},
     "output_type": "execute_result"
    }
   ],
   "source": [
    "2 ** 3 ** 2 # associativity of Operators"
   ]
  },
  {
   "cell_type": "code",
   "execution_count": null,
   "id": "5bc5e8ae-6e26-4c1d-bf9e-70872b422529",
   "metadata": {},
   "outputs": [],
   "source": []
  },
  {
   "cell_type": "code",
   "execution_count": 4,
   "id": "00e97046-c2ea-4fc1-82f4-794d1d5cc406",
   "metadata": {
    "tags": []
   },
   "outputs": [
    {
     "ename": "SyntaxError",
     "evalue": "invalid syntax (128370410.py, line 1)",
     "output_type": "error",
     "traceback": [
      "\u001b[0;36m  Cell \u001b[0;32mIn[4], line 1\u001b[0;36m\u001b[0m\n\u001b[0;31m    5. Can we create Custom Exception in python ? How ?\u001b[0m\n\u001b[0m       ^\u001b[0m\n\u001b[0;31mSyntaxError\u001b[0m\u001b[0;31m:\u001b[0m invalid syntax\n"
     ]
    }
   ],
   "source": []
  },
  {
   "cell_type": "code",
   "execution_count": 5,
   "id": "2d22079f-3767-4e9e-9635-6809e09e385e",
   "metadata": {
    "tags": []
   },
   "outputs": [
    {
     "ename": "ModuleNotFoundError",
     "evalue": "No module named 'ifjai'",
     "output_type": "error",
     "traceback": [
      "\u001b[0;31m---------------------------------------------------------------------------\u001b[0m",
      "\u001b[0;31mModuleNotFoundError\u001b[0m                       Traceback (most recent call last)",
      "Cell \u001b[0;32mIn[5], line 1\u001b[0m\n\u001b[0;32m----> 1\u001b[0m \u001b[38;5;28;01mimport\u001b[39;00m \u001b[38;5;21;01mifjai\u001b[39;00m\n",
      "\u001b[0;31mModuleNotFoundError\u001b[0m: No module named 'ifjai'"
     ]
    }
   ],
   "source": [
    "import "
   ]
  },
  {
   "cell_type": "code",
   "execution_count": 6,
   "id": "85e88180-d661-4b68-898e-d86283f977c1",
   "metadata": {
    "tags": []
   },
   "outputs": [],
   "source": [
    "import abc"
   ]
  },
  {
   "cell_type": "code",
   "execution_count": null,
   "id": "62f9db93-550d-4107-a889-3cbf1280940c",
   "metadata": {},
   "outputs": [],
   "source": []
  },
  {
   "cell_type": "code",
   "execution_count": 7,
   "id": "81a186af-116d-432e-936f-62218bb7f6ae",
   "metadata": {
    "tags": []
   },
   "outputs": [],
   "source": [
    "def sum (a,b):\n",
    "    return a+b\n"
   ]
  },
  {
   "cell_type": "code",
   "execution_count": 8,
   "id": "7159235f-220a-4e04-b8a1-950f31f40ae9",
   "metadata": {
    "tags": []
   },
   "outputs": [],
   "source": [
    "def sum(a,b,c):\n",
    "    return a+b+c"
   ]
  },
  {
   "cell_type": "code",
   "execution_count": 9,
   "id": "51b691d0-5482-42d7-9f35-00a2956ca2b0",
   "metadata": {
    "tags": []
   },
   "outputs": [
    {
     "data": {
      "text/plain": [
       "6"
      ]
     },
     "execution_count": 9,
     "metadata": {},
     "output_type": "execute_result"
    }
   ],
   "source": [
    "sum(1,2,3)"
   ]
  },
  {
   "cell_type": "code",
   "execution_count": 10,
   "id": "f29f397a-16fa-4fc2-919a-cb49497173de",
   "metadata": {
    "tags": []
   },
   "outputs": [
    {
     "ename": "TypeError",
     "evalue": "sum() missing 1 required positional argument: 'c'",
     "output_type": "error",
     "traceback": [
      "\u001b[0;31m---------------------------------------------------------------------------\u001b[0m",
      "\u001b[0;31mTypeError\u001b[0m                                 Traceback (most recent call last)",
      "Cell \u001b[0;32mIn[10], line 1\u001b[0m\n\u001b[0;32m----> 1\u001b[0m \u001b[38;5;28msum\u001b[39m(\u001b[38;5;241m1\u001b[39m,\u001b[38;5;241m2\u001b[39m)\n",
      "\u001b[0;31mTypeError\u001b[0m: sum() missing 1 required positional argument: 'c'"
     ]
    }
   ],
   "source": [
    "sum(1,2)"
   ]
  },
  {
   "cell_type": "code",
   "execution_count": null,
   "id": "8c786405-7c14-4364-85cb-04c875712514",
   "metadata": {},
   "outputs": [],
   "source": []
  },
  {
   "cell_type": "code",
   "execution_count": 11,
   "id": "0b08b487-c040-4de3-ae89-c4ad536dbbc6",
   "metadata": {
    "tags": []
   },
   "outputs": [
    {
     "data": {
      "text/plain": [
       "'123'"
      ]
     },
     "execution_count": 11,
     "metadata": {},
     "output_type": "execute_result"
    }
   ],
   "source": [
    "# WAP to check if a year is a leap or year not ?"
   ]
  },
  {
   "cell_type": "code",
   "execution_count": null,
   "id": "eaa49969-149c-447b-ada4-20cdd7bb711c",
   "metadata": {},
   "outputs": [],
   "source": []
  },
  {
   "cell_type": "code",
   "execution_count": 13,
   "id": "5844cdad-06d1-4c0c-9cc8-30c0d6ad52e6",
   "metadata": {
    "tags": []
   },
   "outputs": [
    {
     "data": {
      "text/plain": [
       "datetime.datetime(2024, 5, 11, 11, 24, 55, 239597)"
      ]
     },
     "execution_count": 13,
     "metadata": {},
     "output_type": "execute_result"
    }
   ],
   "source": [
    "import datetime\n",
    "\n",
    "datetime.datetime.now() \n",
    "\n",
    "# we are on a break for 7 minutes."
   ]
  },
  {
   "cell_type": "code",
   "execution_count": null,
   "id": "1fa70c82-820e-43a8-8b4c-ce2878105bcf",
   "metadata": {},
   "outputs": [],
   "source": [
    "# Question 2: Implementing a Function to Flatten a Nested List\n",
    "\n",
    "def flatten_list(nested_lst):\n",
    "    \"\"\"\n",
    "    Design a Python function named `flatten_list` to flatten a nested list into a single list.\n",
    "\n",
    "    Parameters:\n",
    "    - nested_lst: Nested list (list)\n",
    "\n",
    "    Returns:\n",
    "    - Flattened list (list)\n",
    "\n",
    "    Test Cases:\n",
    "    Test Case 1:\n",
    "    assert flatten_list([[1, 2, 3], [4, 5], [6, 7, 8]]) == [1, 2, 3, 4, 5, 6, 7, 8]\n",
    "\n",
    "    Test Case 2:\n",
    "    assert flatten_list([[1, 2], [3, [4, 5]], [6], [7, 8, [9, 10]]]) == [1, 2, 3, 4, 5, 6, 7, 8, 9, 10]\n",
    "\n",
    "    Test Case 3:\n",
    "    # Additional test cases can be added here\n",
    "    pass\n",
    "\n",
    "\"\"\""
   ]
  },
  {
   "cell_type": "code",
   "execution_count": null,
   "id": "ed87ed09-8887-42aa-b414-3c191cfc433d",
   "metadata": {},
   "outputs": [],
   "source": [
    "l1 = [1,2,3"
   ]
  },
  {
   "cell_type": "code",
   "execution_count": 23,
   "id": "7dee3e0b-5730-4af6-b8a2-8274b1034d9d",
   "metadata": {
    "tags": []
   },
   "outputs": [],
   "source": [
    "\n",
    "def flatten_list(nested_lst):\n",
    "    ans = []\n",
    "    for elem in nested_lst:\n",
    "        if(isinstance(elem,list)):\n",
    "            sans = flatten_list(elem)\n",
    "            ans.extend(sans)\n",
    "        else:\n",
    "            ans.append(elem)\n",
    "    \n",
    "    return ans"
   ]
  },
  {
   "cell_type": "code",
   "execution_count": 24,
   "id": "f7f2e3df-217b-4c10-8986-be998f3d7fa4",
   "metadata": {
    "tags": []
   },
   "outputs": [
    {
     "data": {
      "text/plain": [
       "[1, 2, 3, 4, 5, 6, 7, 8]"
      ]
     },
     "execution_count": 24,
     "metadata": {},
     "output_type": "execute_result"
    }
   ],
   "source": [
    "flatten_list([[1, 2, 3], [4, 5], [6, 7, 8]])"
   ]
  },
  {
   "cell_type": "code",
   "execution_count": 25,
   "id": "84d7c784-eb35-46df-bd8b-446ac7a3d341",
   "metadata": {
    "tags": []
   },
   "outputs": [
    {
     "data": {
      "text/plain": [
       "[1, 2, 3, 4, 5, 6, 7, 8, 9, 10]"
      ]
     },
     "execution_count": 25,
     "metadata": {},
     "output_type": "execute_result"
    }
   ],
   "source": [
    "flatten_list([[1, 2], [3, [4, 5]], [6], [7, 8, [9, 10]]])"
   ]
  },
  {
   "cell_type": "code",
   "execution_count": 17,
   "id": "ca59e1e7-7a44-4aa9-b46a-e7834715e1f6",
   "metadata": {
    "tags": []
   },
   "outputs": [
    {
     "ename": "AssertionError",
     "evalue": "",
     "output_type": "error",
     "traceback": [
      "\u001b[0;31m---------------------------------------------------------------------------\u001b[0m",
      "\u001b[0;31mAssertionError\u001b[0m                            Traceback (most recent call last)",
      "Cell \u001b[0;32mIn[17], line 1\u001b[0m\n\u001b[0;32m----> 1\u001b[0m \u001b[38;5;28;01massert\u001b[39;00m flatten_list([[\u001b[38;5;241m1\u001b[39m, \u001b[38;5;241m2\u001b[39m, \u001b[38;5;241m3\u001b[39m], [\u001b[38;5;241m4\u001b[39m, \u001b[38;5;241m5\u001b[39m], [\u001b[38;5;241m6\u001b[39m, \u001b[38;5;241m7\u001b[39m, \u001b[38;5;241m8\u001b[39m]]) \u001b[38;5;241m==\u001b[39m [\u001b[38;5;241m1\u001b[39m, \u001b[38;5;241m2\u001b[39m, \u001b[38;5;241m3\u001b[39m, \u001b[38;5;241m4\u001b[39m, \u001b[38;5;241m5\u001b[39m, \u001b[38;5;241m6\u001b[39m, \u001b[38;5;241m7\u001b[39m, \u001b[38;5;241m8\u001b[39m]\n\u001b[1;32m      3\u001b[0m     \u001b[38;5;66;03m#Test Case 2:\u001b[39;00m\n\u001b[1;32m      4\u001b[0m \u001b[38;5;28;01massert\u001b[39;00m flatten_list([[\u001b[38;5;241m1\u001b[39m, \u001b[38;5;241m2\u001b[39m], [\u001b[38;5;241m3\u001b[39m, [\u001b[38;5;241m4\u001b[39m, \u001b[38;5;241m5\u001b[39m]], [\u001b[38;5;241m6\u001b[39m], [\u001b[38;5;241m7\u001b[39m, \u001b[38;5;241m8\u001b[39m, [\u001b[38;5;241m9\u001b[39m, \u001b[38;5;241m10\u001b[39m]]]) \u001b[38;5;241m==\u001b[39m [\u001b[38;5;241m1\u001b[39m, \u001b[38;5;241m2\u001b[39m, \u001b[38;5;241m3\u001b[39m, \u001b[38;5;241m4\u001b[39m, \u001b[38;5;241m5\u001b[39m, \u001b[38;5;241m6\u001b[39m, \u001b[38;5;241m7\u001b[39m, \u001b[38;5;241m8\u001b[39m, \u001b[38;5;241m9\u001b[39m, \u001b[38;5;241m10\u001b[39m]\n",
      "\u001b[0;31mAssertionError\u001b[0m: "
     ]
    }
   ],
   "source": [
    "assert flatten_list([[1, 2, 3], [4, 5], [6, 7, 8]]) == [1, 2, 3, 4, 5, 6, 7, 8]\n",
    "\n",
    "    #Test Case 2:\n",
    "assert flatten_list([[1, 2], [3, [4, 5]], [6], [7, 8, [9, 10]]]) == [1, 2, 3, 4, 5, 6, 7, 8, 9, 10]"
   ]
  },
  {
   "cell_type": "code",
   "execution_count": 12,
   "id": "2cb43829-c5f9-4fec-9ce7-3c4c81f6ea49",
   "metadata": {
    "tags": []
   },
   "outputs": [],
   "source": [
    "a = 50000"
   ]
  },
  {
   "cell_type": "code",
   "execution_count": 13,
   "id": "d4dee1da-a58b-4057-b259-01f7da7d01e3",
   "metadata": {
    "tags": []
   },
   "outputs": [
    {
     "data": {
      "text/plain": [
       "4378479152"
      ]
     },
     "execution_count": 13,
     "metadata": {},
     "output_type": "execute_result"
    }
   ],
   "source": [
    "id(a)"
   ]
  },
  {
   "cell_type": "code",
   "execution_count": 14,
   "id": "1619ab6e-5483-4ace-87d2-428fada1b721",
   "metadata": {
    "tags": []
   },
   "outputs": [
    {
     "name": "stdout",
     "output_type": "stream",
     "text": [
      "4378479600\n"
     ]
    },
    {
     "data": {
      "text/plain": [
       "False"
      ]
     },
     "execution_count": 14,
     "metadata": {},
     "output_type": "execute_result"
    }
   ],
   "source": [
    "b= 50000\n",
    "print(id(b))\n",
    "id(b) == id(a)   # -5 to 256"
   ]
  },
  {
   "cell_type": "code",
   "execution_count": 33,
   "id": "f032aca1-81a7-420b-907f-2b52098488fd",
   "metadata": {
    "tags": []
   },
   "outputs": [
    {
     "ename": "ZeroDivisionError",
     "evalue": "division by zero",
     "output_type": "error",
     "traceback": [
      "\u001b[0;31m---------------------------------------------------------------------------\u001b[0m",
      "\u001b[0;31mZeroDivisionError\u001b[0m                         Traceback (most recent call last)",
      "Cell \u001b[0;32mIn[33], line 1\u001b[0m\n\u001b[0;32m----> 1\u001b[0m \u001b[38;5;28mprint\u001b[39m(\u001b[38;5;241m1\u001b[39m\u001b[38;5;241m/\u001b[39m\u001b[38;5;241m0\u001b[39m)\n",
      "\u001b[0;31mZeroDivisionError\u001b[0m: division by zero"
     ]
    }
   ],
   "source": [
    "print(1/0)"
   ]
  },
  {
   "cell_type": "markdown",
   "id": "53fc7109-fe9b-48dc-8c9b-e29b6f429746",
   "metadata": {
    "tags": []
   },
   "source": [
    "9.  Can we create Custom Exception in python ? How ?\n",
    "Yes"
   ]
  },
  {
   "cell_type": "code",
   "execution_count": 32,
   "id": "53eedcfe-491a-4b7f-8772-73dd97f2effc",
   "metadata": {
    "tags": []
   },
   "outputs": [
    {
     "name": "stdin",
     "output_type": "stream",
     "text": [
      "mobile Number 4215125151251\n"
     ]
    }
   ],
   "source": [
    "mn = (input(\"mobile Number\"))\n"
   ]
  },
  {
   "cell_type": "code",
   "execution_count": 35,
   "id": "71c160c4-828a-416e-a11e-dd586e33c411",
   "metadata": {
    "tags": []
   },
   "outputs": [],
   "source": [
    "class NumberNot10Error(Exception):\n",
    "    def __init__(self,msg):\n",
    "        super().__init__(msg)\n",
    "        self.msg = msg"
   ]
  },
  {
   "cell_type": "code",
   "execution_count": 36,
   "id": "7f5a7952-bde3-4938-84c4-70c83f5cbba0",
   "metadata": {
    "tags": []
   },
   "outputs": [
    {
     "ename": "NumberNot10Error",
     "evalue": "number is not 10 digits",
     "output_type": "error",
     "traceback": [
      "\u001b[0;31m---------------------------------------------------------------------------\u001b[0m",
      "\u001b[0;31mNumberNot10Error\u001b[0m                          Traceback (most recent call last)",
      "Cell \u001b[0;32mIn[36], line 2\u001b[0m\n\u001b[1;32m      1\u001b[0m \u001b[38;5;28;01mif\u001b[39;00m \u001b[38;5;28mlen\u001b[39m(mn) \u001b[38;5;241m!=\u001b[39m \u001b[38;5;241m10\u001b[39m:\n\u001b[0;32m----> 2\u001b[0m     \u001b[38;5;28;01mraise\u001b[39;00m NumberNot10Error(\u001b[38;5;124m\"\u001b[39m\u001b[38;5;124mnumber is not 10 digits\u001b[39m\u001b[38;5;124m\"\u001b[39m)\n",
      "\u001b[0;31mNumberNot10Error\u001b[0m: number is not 10 digits"
     ]
    }
   ],
   "source": [
    "if len(mn) != 10:\n",
    "    raise NumberNot10Error(\"number is not 10 digits\")"
   ]
  }
 ],
 "metadata": {
  "kernelspec": {
   "display_name": "Python 3 (ipykernel)",
   "language": "python",
   "name": "python3"
  },
  "language_info": {
   "codemirror_mode": {
    "name": "ipython",
    "version": 3
   },
   "file_extension": ".py",
   "mimetype": "text/x-python",
   "name": "python",
   "nbconvert_exporter": "python",
   "pygments_lexer": "ipython3",
   "version": "3.11.5"
  }
 },
 "nbformat": 4,
 "nbformat_minor": 5
}
