{
 "cells": [
  {
   "cell_type": "code",
   "execution_count": null,
   "id": "cfd3060d-8a84-4b9c-98e2-bbffa67432c6",
   "metadata": {},
   "outputs": [],
   "source": [
    "# Python "
   ]
  },
  {
   "cell_type": "code",
   "execution_count": null,
   "id": "2dbcf01c-c78e-44ce-81d0-61b2645fc8c1",
   "metadata": {},
   "outputs": [],
   "source": [
    "1. Why python is knows as interpreted language ?\n",
    "2. Why is python slower than C/C++ ?\n",
    "3. What are reserved words in Python ?\n",
    "4. What are loops present in python ?\n",
    "5. What is the use case of id  ?\n",
    "6. What are identifiers in python ?\n",
    "7. What is the size provided to int data type in python ? # no limit or dynamic\n",
    "8. What is the min and max limit of int data type ? # no limit\n",
    "\n",
    "9.  Can we create Custom Exception in python ? How ?\n",
    "10. Create a Custom Context Manager without using contextlib ?\n",
    "11. What are magic/dunder function ?  __str__\n",
    "12. Why is finally used in error handling ?\n",
    "13. Take 2 list and find their MSE ?\n",
    "14. What is static methods  ? What is super() ?\n",
    "15. What is the difference between abstraction and encapsulation ?\n",
    "16. Is function overloading supported in python ?\n",
    "17. What is *args and **kwargs ?\n",
    "\n",
    "\n",
    "\n"
   ]
  },
  {
   "cell_type": "code",
   "execution_count": 38,
   "id": "050589ad-be76-4055-a0b6-c2c3f0d91d0c",
   "metadata": {
    "tags": []
   },
   "outputs": [
    {
     "data": {
      "text/plain": [
       "datetime.datetime(2024, 5, 12, 11, 5, 57, 606254)"
      ]
     },
     "execution_count": 38,
     "metadata": {},
     "output_type": "execute_result"
    }
   ],
   "source": [
    "import datetime\n",
    "datetime.datetime.now()\n",
    "\n",
    "# We are on a break for 5 min"
   ]
  },
  {
   "cell_type": "code",
   "execution_count": null,
   "id": "39b70e87-8f7e-4485-8ec7-218f2730fe56",
   "metadata": {},
   "outputs": [],
   "source": []
  },
  {
   "cell_type": "code",
   "execution_count": null,
   "id": "480140ed-8a3a-41dc-bdb2-3209f8eb2b27",
   "metadata": {},
   "outputs": [],
   "source": []
  },
  {
   "cell_type": "code",
   "execution_count": null,
   "id": "7fd896f5-75ba-4a15-874e-0ee33196fe7d",
   "metadata": {},
   "outputs": [],
   "source": []
  },
  {
   "cell_type": "code",
   "execution_count": null,
   "id": "b89a120a-04db-46ab-a470-27b7ef2cf22b",
   "metadata": {},
   "outputs": [],
   "source": [
    "with open(\"test.txt\") as f:   \n",
    "    data = f.read()"
   ]
  },
  {
   "cell_type": "code",
   "execution_count": null,
   "id": "a3565fb4-44d4-4b60-8038-0ec4cdf15be6",
   "metadata": {},
   "outputs": [],
   "source": []
  },
  {
   "cell_type": "code",
   "execution_count": null,
   "id": "822548f9-dc9a-47a5-b0cd-be9709141972",
   "metadata": {},
   "outputs": [],
   "source": [
    "f = open(\"123.txt\",\"w+\")\n",
    "f.write(\"4214\")\n"
   ]
  },
  {
   "cell_type": "code",
   "execution_count": null,
   "id": "8b220866-e553-4530-8a35-7933300fc20a",
   "metadata": {},
   "outputs": [],
   "source": [
    "class CustomManager:\n",
    "    def __init__(self,filename,mode):\n",
    "        self.filename = filename\n",
    "        self.mode = mode\n",
    "        self.f = None\n",
    "        \n",
    "    def __enter__(self):\n",
    "        self.f = open(self.filename,self.mode)\n",
    "        return self.f\n",
    "    \n",
    "    def __exit__(self):\n",
    "        self.f.close()"
   ]
  },
  {
   "cell_type": "code",
   "execution_count": 11,
   "id": "3b6806d1-6f75-41bf-86b7-4b654602b216",
   "metadata": {
    "tags": []
   },
   "outputs": [],
   "source": [
    "class Amazon:\n",
    "    def __init__(self,name):\n",
    "        self.name  = name\n",
    "        \n",
    "    def __enter__(self):\n",
    "        self.email = self.name + \"amazon.com\"\n",
    "        return self.email\n",
    "    \n",
    "    def __exit__(self,exec_type,exc_value,exc_traceback):\n",
    "        print(\"logged out\")"
   ]
  },
  {
   "cell_type": "code",
   "execution_count": null,
   "id": "3f9007dc-8c69-4e20-b892-4593844d53f0",
   "metadata": {},
   "outputs": [],
   "source": [
    "import sqlite3\n",
    "\n",
    "class SQLContextManager:\n",
    "    def __init__(self, dbname):\n",
    "        self.dbname = dbname\n",
    "        \n",
    "    def __enter__(self):\n",
    "        self.conn = sqlite3.connect(self.dbname)\n",
    "        return self.conn\n",
    "    \n",
    "    def __exit__(self, exc_type, exc_value, exc_tb):\n",
    "        self.conn.close()\n",
    "\n",
    "        \n",
    "\n",
    "with SQLContextManager(\"test.db\") as connector:\n",
    "    connector.execute('''CREATE TABLE COMPANY\n",
    "         (ID INT PRIMARY KEY     NOT NULL,\n",
    "         NAME           TEXT    NOT NULL,\n",
    "         AGE            INT     NOT NULL,\n",
    "         ADDRESS        CHAR(50),\n",
    "         SALARY         REAL);''')"
   ]
  },
  {
   "cell_type": "code",
   "execution_count": 12,
   "id": "5c3914fb-c813-4666-bac2-46b42e0a109c",
   "metadata": {
    "tags": []
   },
   "outputs": [
    {
     "name": "stdout",
     "output_type": "stream",
     "text": [
      "logged out\n"
     ]
    }
   ],
   "source": [
    "with Amazon(\"mayank\") as e:\n",
    "    account = e"
   ]
  },
  {
   "cell_type": "code",
   "execution_count": 13,
   "id": "2d5d339e-5bf8-439a-a622-94e0dab68873",
   "metadata": {
    "tags": []
   },
   "outputs": [
    {
     "data": {
      "text/plain": [
       "'123245'"
      ]
     },
     "execution_count": 13,
     "metadata": {},
     "output_type": "execute_result"
    }
   ],
   "source": [
    "\"123\"+\"245\""
   ]
  },
  {
   "cell_type": "code",
   "execution_count": 14,
   "id": "7c8f650f-cef1-48f3-aa65-8416098d0f33",
   "metadata": {
    "tags": []
   },
   "outputs": [
    {
     "data": {
      "text/plain": [
       "9"
      ]
     },
     "execution_count": 14,
     "metadata": {},
     "output_type": "execute_result"
    }
   ],
   "source": [
    "4+5"
   ]
  },
  {
   "cell_type": "code",
   "execution_count": null,
   "id": "6e900ce7-405d-440a-9284-4369d657028c",
   "metadata": {},
   "outputs": [],
   "source": [
    "12. Why is finally used in error handling ?"
   ]
  },
  {
   "cell_type": "code",
   "execution_count": null,
   "id": "cca06804-5cf9-47c1-befb-d1cd86ca2c71",
   "metadata": {},
   "outputs": [],
   "source": []
  },
  {
   "cell_type": "code",
   "execution_count": 17,
   "id": "ed4ee353-62be-4d2b-83d5-3210a3643647",
   "metadata": {
    "tags": []
   },
   "outputs": [],
   "source": [
    "def readFile():\n",
    "    try :\n",
    "        # error\n",
    "    except :\n",
    "        raise Exception \n",
    "   "
   ]
  },
  {
   "cell_type": "code",
   "execution_count": 18,
   "id": "8e9821ea-fcc4-4394-adaf-b43ebdfba56e",
   "metadata": {
    "tags": []
   },
   "outputs": [
    {
     "name": "stdout",
     "output_type": "stream",
     "text": [
      "I should not run as we have returned from function\n"
     ]
    },
    {
     "data": {
      "text/plain": [
       "2"
      ]
     },
     "execution_count": 18,
     "metadata": {},
     "output_type": "execute_result"
    }
   ],
   "source": [
    "readFile()"
   ]
  },
  {
   "cell_type": "code",
   "execution_count": 15,
   "id": "b663dc7a-e935-46a2-a10b-4ea29fcdfb1e",
   "metadata": {
    "tags": []
   },
   "outputs": [
    {
     "name": "stdout",
     "output_type": "stream",
     "text": [
      "connn closed\n"
     ]
    }
   ],
   "source": [
    "try:\n",
    "    f = open(\"123.txt\",\"w+\")\n",
    "    f.write(\"4214\")\n",
    "except:\n",
    "    print(\"file not found\")\n",
    "finally:\n",
    "    f.close()\n",
    "    print(\"connn closed\")"
   ]
  },
  {
   "cell_type": "code",
   "execution_count": null,
   "id": "7da0ba4b-fce3-42ca-93ca-2853db7fbca8",
   "metadata": {},
   "outputs": [],
   "source": []
  },
  {
   "cell_type": "markdown",
   "id": "c4d5e00c-8833-45a9-b7af-9103fe166ea8",
   "metadata": {},
   "source": [
    "# what are static methods"
   ]
  },
  {
   "cell_type": "code",
   "execution_count": 33,
   "id": "f8703075-eeed-435a-8c53-691a4a8e885c",
   "metadata": {
    "tags": []
   },
   "outputs": [],
   "source": [
    "class School:\n",
    "    \n",
    "    __noOfStudents = 0\n",
    "    \n",
    "    def __init__(self,name):\n",
    "        School.__noOfStudents = School.__noOfStudents + 1\n",
    "        self.name = name\n",
    "\n",
    "        \n",
    "    @staticmethod\n",
    "    def getStudents():\n",
    "        return School.__noOfStudents\n",
    "    @staticmethod\n",
    "    def GetSchoolName():\n",
    "        return \"MAPS\""
   ]
  },
  {
   "cell_type": "code",
   "execution_count": 34,
   "id": "dc8047cc-29d8-4f39-96c3-11937ef30a94",
   "metadata": {
    "tags": []
   },
   "outputs": [],
   "source": [
    "s1 = School(\"m\")\n"
   ]
  },
  {
   "cell_type": "code",
   "execution_count": 36,
   "id": "a57cd6f9-963e-45f2-ad0f-f7e1fb237abc",
   "metadata": {
    "tags": []
   },
   "outputs": [
    {
     "data": {
      "text/plain": [
       "1"
      ]
     },
     "execution_count": 36,
     "metadata": {},
     "output_type": "execute_result"
    }
   ],
   "source": [
    "s1.getStudents()"
   ]
  },
  {
   "cell_type": "code",
   "execution_count": 30,
   "id": "c5a3edde-927a-4804-8f49-585374f80aad",
   "metadata": {
    "tags": []
   },
   "outputs": [
    {
     "data": {
      "text/plain": [
       "<__main__.School at 0x106f552d0>"
      ]
     },
     "execution_count": 30,
     "metadata": {},
     "output_type": "execute_result"
    }
   ],
   "source": [
    "School(\"a\")"
   ]
  },
  {
   "cell_type": "code",
   "execution_count": 32,
   "id": "7a0c7892-f683-46b5-b6b7-662d7878ba9e",
   "metadata": {
    "tags": []
   },
   "outputs": [
    {
     "data": {
      "text/plain": [
       "2"
      ]
     },
     "execution_count": 32,
     "metadata": {},
     "output_type": "execute_result"
    }
   ],
   "source": [
    "School.getStudents()"
   ]
  },
  {
   "cell_type": "code",
   "execution_count": null,
   "id": "cf19399e-ea59-44fb-9eb9-b3eaa0d1a39d",
   "metadata": {},
   "outputs": [],
   "source": []
  },
  {
   "cell_type": "code",
   "execution_count": null,
   "id": "d0762fcc-baf1-446b-a7a1-c230451a2dac",
   "metadata": {},
   "outputs": [],
   "source": []
  },
  {
   "cell_type": "markdown",
   "id": "823d7ace-ebdb-4a56-8cf9-553206384689",
   "metadata": {
    "tags": []
   },
   "source": [
    "# Encapsulation"
   ]
  },
  {
   "cell_type": "code",
   "execution_count": 66,
   "id": "0cbbf7bb-caa6-4fd1-9897-9a5e60298cf1",
   "metadata": {
    "tags": []
   },
   "outputs": [],
   "source": [
    "class BankAccount:\n",
    "    def __init__ (self,accNo,Pass):\n",
    "        self.__accNo = accNo\n",
    "        self.__Pass = Pass\n",
    "    \n",
    "    def getPassword(self,auth):\n",
    "        if(self.auth()):\n",
    "            return self.__Pass\n",
    "        else:\n",
    "            print(\"Not authorized\")\n",
    "    \n",
    "    def auth(self):\n",
    "        return False"
   ]
  },
  {
   "cell_type": "code",
   "execution_count": 64,
   "id": "2a7d2276-0956-45b0-b2d8-716e448a41d8",
   "metadata": {
    "tags": []
   },
   "outputs": [],
   "source": [
    "b1 = BankAccount(123,\"0000\")"
   ]
  },
  {
   "cell_type": "code",
   "execution_count": 65,
   "id": "14d39da7-bc89-440c-bfb4-4f49ae0ffd45",
   "metadata": {
    "tags": []
   },
   "outputs": [
    {
     "name": "stdout",
     "output_type": "stream",
     "text": [
      "Not authorized\n"
     ]
    }
   ],
   "source": [
    "b1.getPassword(\"123\")"
   ]
  },
  {
   "cell_type": "markdown",
   "id": "bff15f24-b5c8-43d3-a801-adc118e0d181",
   "metadata": {},
   "source": [
    "\n",
    "\n",
    "# Abstraction"
   ]
  },
  {
   "cell_type": "code",
   "execution_count": 72,
   "id": "22a7feac-c8a7-4ce9-a87a-01250427360e",
   "metadata": {
    "tags": []
   },
   "outputs": [],
   "source": [
    "import abc\n",
    "from abc import ABC,abstractmethod"
   ]
  },
  {
   "cell_type": "code",
   "execution_count": 82,
   "id": "7f06e779-7ce6-4969-844e-188bdc091e41",
   "metadata": {
    "tags": []
   },
   "outputs": [],
   "source": [
    "class BankAccount(ABC):\n",
    "    def __init__ (self,accNo,Pass):\n",
    "        self.__accNo = accNo\n",
    "        self.__Pass = Pass\n",
    "    \n",
    "    def getPassword(self,auth):\n",
    "        if(self.auth()):\n",
    "            return self.__Pass\n",
    "        else:\n",
    "            print(\"Not authorized\")\n",
    "            \n",
    "    @abstractmethod\n",
    "    def auth(self):\n",
    "        pass"
   ]
  },
  {
   "cell_type": "code",
   "execution_count": 83,
   "id": "e346e1c2-2cf2-4b6c-8ea6-bf5c4d0281ac",
   "metadata": {
    "tags": []
   },
   "outputs": [],
   "source": [
    "class MobileBankAccount(BankAccount):\n",
    "    \n",
    "    def __init__ (self):\n",
    "        print(\"Mobile App opened\")\n",
    "            \n",
    "    def auth(self):\n",
    "        return True"
   ]
  },
  {
   "cell_type": "code",
   "execution_count": 84,
   "id": "c5a7680b-a682-4ce7-992f-1c67a55fb798",
   "metadata": {
    "tags": []
   },
   "outputs": [
    {
     "name": "stdout",
     "output_type": "stream",
     "text": [
      "Mobile App opened\n"
     ]
    }
   ],
   "source": [
    "m1 = MobileBankAccount()"
   ]
  },
  {
   "cell_type": "code",
   "execution_count": null,
   "id": "43a8d401-4bf9-4479-920a-8ad651815a93",
   "metadata": {},
   "outputs": [],
   "source": []
  },
  {
   "cell_type": "code",
   "execution_count": null,
   "id": "646a9236-8348-4ca0-99b2-f07f6434362f",
   "metadata": {},
   "outputs": [],
   "source": []
  },
  {
   "cell_type": "code",
   "execution_count": null,
   "id": "833d0147-25f0-4368-a920-3369e96bb369",
   "metadata": {},
   "outputs": [],
   "source": []
  },
  {
   "cell_type": "code",
   "execution_count": 85,
   "id": "d5d9e3c6-ce2d-4396-ad1a-d9b355274201",
   "metadata": {
    "tags": []
   },
   "outputs": [],
   "source": [
    "def sum(a,b):\n",
    "    return a+b"
   ]
  },
  {
   "cell_type": "code",
   "execution_count": 86,
   "id": "1b689e98-da9a-4255-aaef-650c1c4b9231",
   "metadata": {
    "tags": []
   },
   "outputs": [
    {
     "data": {
      "text/plain": [
       "5"
      ]
     },
     "execution_count": 86,
     "metadata": {},
     "output_type": "execute_result"
    }
   ],
   "source": [
    "sum(2,3)"
   ]
  },
  {
   "cell_type": "code",
   "execution_count": 87,
   "id": "05d09b71-dfc7-4a09-b249-2e637366c3e3",
   "metadata": {
    "tags": []
   },
   "outputs": [],
   "source": [
    "def sum(*args):\n",
    "    print(type(args))\n",
    "    sum =0\n",
    "    for i in args:\n",
    "        sum+=i\n",
    "    return sum"
   ]
  },
  {
   "cell_type": "code",
   "execution_count": 118,
   "id": "2d51cc4e-1c99-4bbe-adf4-7e2381320eca",
   "metadata": {
    "tags": []
   },
   "outputs": [],
   "source": [
    "def diff(*args):\n",
    "    print(type(args))\n",
    "    sum =0\n",
    "    for i in args:\n",
    "        sum-=i\n",
    "    return sum"
   ]
  },
  {
   "cell_type": "code",
   "execution_count": 89,
   "id": "ed5d4f1b-9f0b-4861-b202-30870cc244a3",
   "metadata": {
    "tags": []
   },
   "outputs": [
    {
     "name": "stdout",
     "output_type": "stream",
     "text": [
      "<class 'tuple'>\n"
     ]
    },
    {
     "data": {
      "text/plain": [
       "164026"
      ]
     },
     "execution_count": 89,
     "metadata": {},
     "output_type": "execute_result"
    }
   ],
   "source": [
    "sum(1,2,3,56,75473,864,86354,385,845,43)"
   ]
  },
  {
   "cell_type": "code",
   "execution_count": 95,
   "id": "33b00de2-a2c6-453d-af70-0bc75add5627",
   "metadata": {
    "tags": []
   },
   "outputs": [],
   "source": [
    "def MySum(name,surname,address):\n",
    "    print(f\"{name},{surname},{address}\")"
   ]
  },
  {
   "cell_type": "code",
   "execution_count": 99,
   "id": "6cfce9c0-fd2e-4475-96cd-a4a039d16afe",
   "metadata": {
    "tags": []
   },
   "outputs": [
    {
     "name": "stdout",
     "output_type": "stream",
     "text": [
      "mayank,aggarwal,123\n"
     ]
    }
   ],
   "source": [
    "MySum(address=\"123\",surname=\"aggarwal\",name= \"mayank\")"
   ]
  },
  {
   "cell_type": "code",
   "execution_count": null,
   "id": "b3045263-e548-47a5-9597-06723021b93e",
   "metadata": {},
   "outputs": [],
   "source": []
  },
  {
   "cell_type": "code",
   "execution_count": 111,
   "id": "a7667d69-d0a4-4f4b-8572-efcf658bbfd9",
   "metadata": {
    "tags": []
   },
   "outputs": [],
   "source": [
    "def fun1(**kwargs):\n",
    "    print(kwargs)\n",
    "    for i,j in kwargs.items():\n",
    "        print (i,j)"
   ]
  },
  {
   "cell_type": "code",
   "execution_count": null,
   "id": "47526c17-d7f4-47fb-96b0-941fae96ca8d",
   "metadata": {},
   "outputs": [],
   "source": []
  },
  {
   "cell_type": "code",
   "execution_count": 113,
   "id": "716d6bf2-8aab-427c-8f1e-3e4600d4633c",
   "metadata": {
    "tags": []
   },
   "outputs": [
    {
     "name": "stdout",
     "output_type": "stream",
     "text": [
      "{'address': '123', 'surname': 'aggarwal', 'name': 'mayank', 'name1': 'magara'}\n",
      "address 123\n",
      "surname aggarwal\n",
      "name mayank\n",
      "name1 magara\n"
     ]
    }
   ],
   "source": [
    "fun1(address=\"123\",surname=\"aggarwal\",name= \"mayank\",name1= \"magara\")"
   ]
  },
  {
   "cell_type": "code",
   "execution_count": null,
   "id": "c001b501-62ec-460a-98fa-40d7cc7f271c",
   "metadata": {},
   "outputs": [],
   "source": []
  },
  {
   "cell_type": "code",
   "execution_count": 121,
   "id": "18a123ca-b326-4f0b-b705-c223b325c552",
   "metadata": {
    "tags": []
   },
   "outputs": [],
   "source": [
    "def pow(a):\n",
    "    return a**2"
   ]
  },
  {
   "cell_type": "code",
   "execution_count": 120,
   "id": "476b443d-e52b-440d-a646-2d3fede46a17",
   "metadata": {
    "tags": []
   },
   "outputs": [],
   "source": [
    "def fun2 ( fun,l1):\n",
    "    return [pow(i) for i in l1]"
   ]
  },
  {
   "cell_type": "code",
   "execution_count": 123,
   "id": "26734e7b-7558-4b86-b701-400b0bcf3ad7",
   "metadata": {
    "tags": []
   },
   "outputs": [
    {
     "data": {
      "text/plain": [
       "[9, 16, 25, 36]"
      ]
     },
     "execution_count": 123,
     "metadata": {},
     "output_type": "execute_result"
    }
   ],
   "source": [
    "fun2(pow,[3,4,5,6])"
   ]
  },
  {
   "cell_type": "code",
   "execution_count": 127,
   "id": "4e1a7f76-acd2-4ab0-84b3-c41baa9f239f",
   "metadata": {
    "tags": []
   },
   "outputs": [
    {
     "data": {
      "text/plain": [
       "[1, 4, 9, 16, 25]"
      ]
     },
     "execution_count": 127,
     "metadata": {},
     "output_type": "execute_result"
    }
   ],
   "source": [
    "list(map(pow,l1))"
   ]
  },
  {
   "cell_type": "code",
   "execution_count": 126,
   "id": "7f0a33d9-f951-494a-9cf0-7534a34b0dbd",
   "metadata": {
    "tags": []
   },
   "outputs": [],
   "source": [
    "l1 = [1,2,3,4,5]"
   ]
  }
 ],
 "metadata": {
  "kernelspec": {
   "display_name": "Python 3 (ipykernel)",
   "language": "python",
   "name": "python3"
  },
  "language_info": {
   "codemirror_mode": {
    "name": "ipython",
    "version": 3
   },
   "file_extension": ".py",
   "mimetype": "text/x-python",
   "name": "python",
   "nbconvert_exporter": "python",
   "pygments_lexer": "ipython3",
   "version": "3.11.5"
  }
 },
 "nbformat": 4,
 "nbformat_minor": 5
}
