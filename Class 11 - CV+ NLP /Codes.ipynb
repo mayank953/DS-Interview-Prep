{
 "cells": [
  {
   "cell_type": "markdown",
   "id": "14a7dad0-d5aa-47b7-98e3-2b1ad75e8d73",
   "metadata": {},
   "source": [
    "# NLP & Computer Vision"
   ]
  },
  {
   "cell_type": "code",
   "execution_count": null,
   "id": "4e31691f-16fd-4630-a800-33b1d81a393c",
   "metadata": {},
   "outputs": [],
   "source": []
  },
  {
   "cell_type": "markdown",
   "id": "83f4a776-03e2-40ea-bd0a-38993073823e",
   "metadata": {},
   "source": [
    "What are some techniques to handle occlusion in object detection? #Homework\n"
   ]
  },
  {
   "cell_type": "code",
   "execution_count": 2,
   "id": "c16915ce-3181-4614-a7c2-b0bd8bb9990e",
   "metadata": {
    "tags": []
   },
   "outputs": [
    {
     "name": "stdout",
     "output_type": "stream",
     "text": [
      "Object `classification` not found.\n"
     ]
    }
   ],
   "source": [
    "Explain the concept of image segmentation. How is it different from image classification?"
   ]
  },
  {
   "cell_type": "code",
   "execution_count": null,
   "id": "d0e7fbd8-aeb3-4c58-90ad-f3b0e0b0c2e7",
   "metadata": {},
   "outputs": [],
   "source": []
  },
  {
   "cell_type": "code",
   "execution_count": null,
   "id": "215071bf-2e3a-44ee-ab55-f5b47e82be96",
   "metadata": {},
   "outputs": [],
   "source": []
  },
  {
   "cell_type": "code",
   "execution_count": 3,
   "id": "f4ab9633-7f75-41d5-8b69-22f026e1ae32",
   "metadata": {
    "tags": []
   },
   "outputs": [
    {
     "name": "stdout",
     "output_type": "stream",
     "text": [
      "Object `vision` not found.\n"
     ]
    }
   ],
   "source": [
    "What is the role of data augmentation in training deep learning models for computer vision?"
   ]
  },
  {
   "cell_type": "code",
   "execution_count": 5,
   "id": "6faf88dd-eed5-48f3-ba32-a0ff0b030df3",
   "metadata": {
    "tags": []
   },
   "outputs": [
    {
     "name": "stdout",
     "output_type": "stream",
     "text": [
      "Object `RNNs` not found.\n"
     ]
    }
   ],
   "source": [
    "What are transformers in NLP, and how do they differ from RNNs? #HCL"
   ]
  },
  {
   "cell_type": "code",
   "execution_count": null,
   "id": "6d6bb518-869b-4949-a299-05465d7cd233",
   "metadata": {},
   "outputs": [],
   "source": [
    "Describe the process of named entity recognition (NER). How is it useful? # mindtree"
   ]
  },
  {
   "cell_type": "code",
   "execution_count": null,
   "id": "b6dd3fe4-d189-45ff-9c4b-5dce1ad45409",
   "metadata": {},
   "outputs": [],
   "source": []
  },
  {
   "cell_type": "code",
   "execution_count": null,
   "id": "f8dbc14a-06e2-4f04-8095-20b0c107d14c",
   "metadata": {},
   "outputs": [],
   "source": []
  },
  {
   "cell_type": "markdown",
   "id": "657dea32-7f27-4463-a303-2de0710e7393",
   "metadata": {},
   "source": [
    "What is the difference between stride and padding in CNNs?"
   ]
  },
  {
   "cell_type": "code",
   "execution_count": null,
   "id": "77edcd59-d410-4255-9605-4aff7d7be299",
   "metadata": {},
   "outputs": [],
   "source": []
  },
  {
   "cell_type": "markdown",
   "id": "a8198e96-6235-4f4a-b12a-485d138ed788",
   "metadata": {},
   "source": [
    "## Computer Vision\n",
    "\n",
    "1.  **Explain the concept of convolution in CNNs.**\n",
    "\n",
    "2.  **How does max pooling work in a CNN, and what is its purpose?**\n",
    "\n",
    "3.  **What are the advantages of using transfer learning in computer vision tasks?**\n",
    "\n",
    "4.  **Explain the process of image augmentation and its importance.**\n",
    "\n",
    "5.  **Describe the architecture of a typical convolutional neural network (CNN).**\n",
    "\n",
    "6.  **What is the difference between stride and padding in CNNs?**\n",
    "\n",
    "7.  **How would you handle an imbalanced dataset in a computer vision problem?**\n",
    "\n",
    "8.  **Explain the concept of YOLO (You Only Look Once) in object detection.**\n",
    "\n",
    "9.  **Describe the role of activation functions in deep learning.**\n",
    "\n",
    "10. **What is a residual network (ResNet), and how does it help in deep learning?**\n",
    "\n",
    "\n",
    "### NLP Questions\n",
    "\n",
    "1.  **Explain the term 'word embedding' and its importance in NLP.**\n",
    "\n",
    "2.  **How does the TF-IDF algorithm work, and where is it used?**\n",
    "\n",
    "3.  **What are the differences between stemming and lemmatization?**\n",
    "\n",
    "4.  **Explain the concept of Named Entity Recognition (NER).**\n",
    "\n",
    "5.  **Describe the architecture and working of the Transformer model.**\n",
    "\n",
    "6.  **What is the difference between a unigram, bigram, and trigram model in NLP?**\n",
    "\n",
    "7.  **How does the BERT model improve upon traditional NLP models?**\n",
    "\n",
    "8.  **Explain the concept of attention mechanisms in NLP.**\n",
    "\n",
    "9.  **What is Latent Dirichlet Allocation (LDA), and how is it used in topic modeling?**\n",
    "\n",
    "10. **Describe the process of sentiment analysis and its applications.**\n",
    "\n"
   ]
  }
 ],
 "metadata": {
  "kernelspec": {
   "display_name": "Python 3 (ipykernel)",
   "language": "python",
   "name": "python3"
  },
  "language_info": {
   "codemirror_mode": {
    "name": "ipython",
    "version": 3
   },
   "file_extension": ".py",
   "mimetype": "text/x-python",
   "name": "python",
   "nbconvert_exporter": "python",
   "pygments_lexer": "ipython3",
   "version": "3.11.5"
  }
 },
 "nbformat": 4,
 "nbformat_minor": 5
}
