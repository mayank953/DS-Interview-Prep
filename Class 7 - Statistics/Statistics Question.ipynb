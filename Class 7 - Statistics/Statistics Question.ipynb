{
 "cells": [
  {
   "cell_type": "markdown",
   "id": "973f057f-0f70-4cec-8125-9894a0a9e51d",
   "metadata": {
    "jupyter": {
     "source_hidden": true
    },
    "tags": []
   },
   "source": [
    "\n",
    "### Introduction to Statistics\n",
    "\n",
    "1\\. **What is the difference between descriptive and inferential statistics?**\n",
    "\n",
    "2\\. **Explain the different types of data: qualitative vs. quantitative.**\n",
    "\n",
    "3\\. **What are the scales of measurement in statistics?**\n",
    "\n",
    "4\\. **How would you differentiate between continuous and discrete data?**\n",
    "\n",
    "### Descriptive Statistics\n",
    "\n",
    "5\\. **How do you calculate and interpret the mean, median, and mode of a dataset?**\n",
    "\n",
    "6\\. **What is the significance of the standard deviation and variance?**\n",
    "\n",
    "7\\. **Explain the concept of interquartile range (IQR).**\n",
    "\n",
    "8\\. **What is the purpose of a histogram?**\n",
    "\n",
    "9\\. **How do you interpret a boxplot?**\n",
    "\n",
    "10\\. **What are skewness and kurtosis? How are they used?**\n",
    "\n",
    "### Probability\n",
    "\n",
    "11\\. **What is the difference between a sample space and an event?**\n",
    "\n",
    "12\\. **Explain the concept of conditional probability with an example.**\n",
    "\n",
    "13\\. **What is Bayes' Theorem and how is it used?**\n",
    "\n",
    "14\\. **Differentiate between independent and dependent events.**\n",
    "\n",
    "15\\. **What are the key characteristics of a binomial distribution?**\n",
    "\n",
    "16\\. **Explain the properties of a normal distribution.**\n",
    "\n",
    "17\\. **What is the expected value of a random variable and how is it calculated?**\n",
    "\n",
    "18\\. **How do you calculate the variance of a random variable?**\n",
    "\n",
    "### Statistical Inference\n",
    "\n",
    "19\\. **What is the Central Limit Theorem and why is it important?**\n",
    "\n",
    "20\\. **Describe the differences between simple random sampling, stratified sampling, and cluster sampling.**\n",
    "\n",
    "21\\. **What are null and alternative hypotheses?**\n",
    "\n",
    "22\\. **Explain Type I and Type II errors with examples.**\n",
    "\n",
    "23\\. **What is a p-value and how is it interpreted?**\n",
    "\n",
    "24\\. **How do you decide between using a one-tailed or a two-tailed test?**\n",
    "\n",
    "25\\. **Describe the steps involved in conducting a Z-test.**\n",
    "\n",
    "26\\. **When would you use a T-test instead of a Z-test?**\n",
    "\n",
    "27\\. **What is a chi-square test used for?**\n",
    "\n",
    "28\\. **Explain the ANOVA test and when it is used.**\n",
    "\n",
    "### Confidence Intervals\n",
    "\n",
    "29\\. **How do you construct and interpret a confidence interval for a population mean?**\n",
    "\n",
    "30\\. **What is the margin of error in a confidence interval?**\n",
    "\n",
    "### Correlation and Regression\n",
    "\n",
    "31\\. **What is the difference between correlation and causation?**\n",
    "\n",
    "32\\. **How do you interpret the Pearson correlation coefficient?**\n",
    "\n",
    "33\\. **Explain Spearman's rank correlation coefficient.**\n",
    "\n",
    "34\\. **What does the R-squared value tell you in a regression analysis?**\n",
    "\n",
    "35\\. **How do you interpret the coefficients in a simple linear regression model?**\n",
    "\n",
    "36\\. **What is multicollinearity and how can it affect regression analysis?**\n",
    "\n",
    "37\\. **What is the purpose of residual analysis in regression?**\n",
    "\n",
    "38\\. **Explain the concept of adjusted R-squared.**\n",
    "\n",
    "39\\. **How do you detect outliers in a regression analysis?**\n",
    "\n",
    "### Exploratory Data Analysis (EDA)\n",
    "\n",
    "40\\. **What steps would you take to clean a dataset with missing values?**\n",
    "\n",
    "41\\. **How do you handle outliers in a dataset?**\n",
    "\n",
    "42\\. **Explain the importance of data visualization in EDA.**\n",
    "\n",
    "43\\. **What are the best practices for summarizing categorical data?**\n",
    "\n",
    "44\\. **Describe the process of creating a scatter plot and what it can reveal.**\n",
    "\n",
    "45\\. **What is the purpose of a heatmap in data analysis?**\n",
    "\n",
    "### Practical Applications and Tools\n",
    "\n",
    "46\\. **What are the key differences between R and Python for statistical analysis?**\n",
    "\n",
    "47\\. **How would you perform a statistical test using Python's SciPy library?**\n",
    "\n",
    "48\\. **What libraries in Python are commonly used for data analysis and visualization?**\n",
    "\n",
    "49\\. **Describe a scenario where you used statistical analysis to solve a real-world problem.**\n",
    "\n",
    "### Preparing for Data Science Interviews\n",
    "\n",
    "50\\. **How would you explain a complex statistical concept to a non-technical stakeholder?**\n"
   ]
  },
  {
   "cell_type": "code",
   "execution_count": null,
   "id": "6a9da661-e43b-4e51-ba84-1d30920a2dd2",
   "metadata": {},
   "outputs": [],
   "source": []
  },
  {
   "cell_type": "code",
   "execution_count": null,
   "id": "028a93ce-ec24-4e6f-8392-b4db3b3c453f",
   "metadata": {},
   "outputs": [],
   "source": []
  },
  {
   "cell_type": "code",
   "execution_count": null,
   "id": "544d3bb7-7f55-4670-b0e9-38b007dd4093",
   "metadata": {},
   "outputs": [],
   "source": []
  },
  {
   "cell_type": "code",
   "execution_count": null,
   "id": "ac8a7c66-2cfb-4001-ab43-c6aeaefcb971",
   "metadata": {},
   "outputs": [],
   "source": []
  },
  {
   "cell_type": "markdown",
   "id": "ba32fdf9-c9b8-481e-8f6d-91f8a2368c86",
   "metadata": {
    "tags": []
   },
   "source": [
    "**Question: How would you design a fraud detection system for an online payment platform?**\n",
    "\n",
    "\n",
    "\n",
    "**GOOGLE (2023)**"
   ]
  },
  {
   "cell_type": "markdown",
   "id": "c7cd2a96-e428-4600-8bb9-b4befb79b9d5",
   "metadata": {},
   "source": [
    "**Explain the concept of A/B testing and its application.**\n",
    "\n",
    "**AMAZON (2022)**"
   ]
  },
  {
   "cell_type": "code",
   "execution_count": null,
   "id": "efa49b4e-ff97-4d0b-9bdd-c98561693a74",
   "metadata": {},
   "outputs": [],
   "source": []
  },
  {
   "cell_type": "code",
   "execution_count": 4,
   "id": "72fb36d4-9d0c-4b4a-8088-1c1815aefd0d",
   "metadata": {
    "tags": []
   },
   "outputs": [
    {
     "data": {
      "text/plain": [
       "datetime.datetime(2024, 5, 18, 11, 15, 45, 369347)"
      ]
     },
     "execution_count": 4,
     "metadata": {},
     "output_type": "execute_result"
    }
   ],
   "source": [
    "import datetime\n",
    "\n",
    "datetime.datetime.now()"
   ]
  },
  {
   "cell_type": "code",
   "execution_count": null,
   "id": "706ce5a5-d73e-4a9b-a55e-22daa1611872",
   "metadata": {},
   "outputs": [],
   "source": []
  },
  {
   "cell_type": "code",
   "execution_count": null,
   "id": "1663e20a-f271-4f0a-a799-fed1f6e747c5",
   "metadata": {},
   "outputs": [],
   "source": []
  },
  {
   "cell_type": "code",
   "execution_count": null,
   "id": "12c6053a-1097-410f-ba58-5d2d4cf9db9b",
   "metadata": {},
   "outputs": [],
   "source": []
  },
  {
   "cell_type": "markdown",
   "id": "a3ad2f9d-ee40-40f0-8d56-0201064c8f7d",
   "metadata": {},
   "source": [
    "**Explain the concept of overfitting and underfitting in machine learning models. //Deloitte (2022)**"
   ]
  },
  {
   "cell_type": "code",
   "execution_count": null,
   "id": "b21c729e-68d8-48b6-8a81-bdfcb2e56d71",
   "metadata": {},
   "outputs": [],
   "source": []
  },
  {
   "cell_type": "markdown",
   "id": "11729895-1a00-4062-a922-03766f0d6bd0",
   "metadata": {},
   "source": [
    "# What are the assumptions of linear regression?\n",
    "\n",
    "Company: Cognizant (2023)"
   ]
  },
  {
   "cell_type": "markdown",
   "id": "d90a4a0d-5acf-4199-82f0-f7d5bcd9b666",
   "metadata": {
    "tags": []
   },
   "source": [
    "# How would you assess the performance of a logistic regression model?\n",
    "\n",
    "IBM"
   ]
  },
  {
   "cell_type": "markdown",
   "id": "fa53119e-7ae9-40a9-bd87-ce0874296f69",
   "metadata": {
    "tags": []
   },
   "source": [
    "# Describe the steps you would take to preprocess a dataset before analysis.\n",
    "\n",
    "Accenture"
   ]
  },
  {
   "cell_type": "code",
   "execution_count": null,
   "id": "33134d28-072b-4383-b6c4-daae46b5f4aa",
   "metadata": {},
   "outputs": [],
   "source": []
  },
  {
   "cell_type": "code",
   "execution_count": null,
   "id": "0ad628cc-36c3-4ffe-bf1c-7df7b1fba5b7",
   "metadata": {},
   "outputs": [],
   "source": []
  },
  {
   "cell_type": "code",
   "execution_count": null,
   "id": "5e19b837-e3a0-4dfc-bbcc-c4dcf92e400f",
   "metadata": {},
   "outputs": [],
   "source": []
  },
  {
   "cell_type": "markdown",
   "id": "8de61224-ae3a-4ef8-b8a8-8adf2f1840b7",
   "metadata": {},
   "source": [
    "# What is the curse of dimensionality and how does it affect model performance? \n",
    "\n",
    "Spotify (2022)"
   ]
  },
  {
   "cell_type": "markdown",
   "id": "c174de8b-005c-4163-b530-6844769f8104",
   "metadata": {},
   "source": [
    "# Data Structures and Algorithms: Solve problems like 2Sum and valid parenthesis (2023)."
   ]
  },
  {
   "cell_type": "code",
   "execution_count": null,
   "id": "ad005e03-6dc8-4dc4-8fcd-95dbab0e994e",
   "metadata": {},
   "outputs": [],
   "source": []
  },
  {
   "cell_type": "markdown",
   "id": "1c234ca7-8d0d-4e5e-835d-b3a0ad92695c",
   "metadata": {},
   "source": [
    "#  Explain your approach to handling outliers in a dataset (2022) Toptal"
   ]
  },
  {
   "cell_type": "code",
   "execution_count": null,
   "id": "b485442f-5bd0-4f65-9c75-eb2d50b13171",
   "metadata": {},
   "outputs": [],
   "source": []
  },
  {
   "cell_type": "code",
   "execution_count": null,
   "id": "fdd3371a-655e-4c9a-a1e5-5b51cae6f7dc",
   "metadata": {},
   "outputs": [],
   "source": []
  },
  {
   "cell_type": "markdown",
   "id": "fbe97546-e3c8-41ec-8e32-410228bf2ce7",
   "metadata": {},
   "source": [
    "# Discuss your approach to exploratory data analysis on a new dataset (2022) (Tiger Analytics)"
   ]
  },
  {
   "cell_type": "code",
   "execution_count": null,
   "id": "68a5536c-0b0e-4fad-ba1c-f12b06de3aee",
   "metadata": {},
   "outputs": [],
   "source": []
  },
  {
   "cell_type": "markdown",
   "id": "fb042eec-c54f-41dc-891e-de7d3ea711bb",
   "metadata": {},
   "source": [
    " # Explain how you would perform a join operation between two tables to combine customer and order information using SQL.    Infosys(2023). "
   ]
  },
  {
   "cell_type": "markdown",
   "id": "7c1423cf-9f01-4433-a7a3-01c5541a4b46",
   "metadata": {
    "tags": []
   },
   "source": [
    "# How do you interpret the coefficients in a simple linear regression model? L1 & L2 regularization"
   ]
  },
  {
   "cell_type": "markdown",
   "id": "435ae9e8-1e6a-4bb3-8d23-da1f99cef739",
   "metadata": {
    "tags": []
   },
   "source": [
    "What are type 1 and type 2 error and how do they impact analysis ?\n",
    "\n",
    "Then, interviewer moved onto confusion matrix."
   ]
  },
  {
   "cell_type": "code",
   "execution_count": null,
   "id": "ed899daa-9f70-4a0a-8f96-902ef1941501",
   "metadata": {},
   "outputs": [],
   "source": []
  },
  {
   "cell_type": "markdown",
   "id": "c7df12f0-3df5-4420-ae3b-6ce188545705",
   "metadata": {},
   "source": [
    "# Write a query to find the top five most expensive projects by the amount of budget allocated to each employee on the project. Exclude projects with 0 employees. The output should be the project title and the budget allocated.\n",
    "\n",
    "Microsoft"
   ]
  },
  {
   "cell_type": "markdown",
   "id": "f8e0febd-235f-4083-8533-04e675dc1ce4",
   "metadata": {},
   "source": [
    "# Explain the concept of bias-variance trade-off in machine learning. \n",
    "# Apple"
   ]
  },
  {
   "cell_type": "markdown",
   "id": "4d0e9b22-3186-4cfc-9547-e9ef9d7899dd",
   "metadata": {},
   "source": [
    "# Which is the best sorting algorithm\n",
    "\n",
    "- IntroSort"
   ]
  }
 ],
 "metadata": {
  "kernelspec": {
   "display_name": "Python 3 (ipykernel)",
   "language": "python",
   "name": "python3"
  },
  "language_info": {
   "codemirror_mode": {
    "name": "ipython",
    "version": 3
   },
   "file_extension": ".py",
   "mimetype": "text/x-python",
   "name": "python",
   "nbconvert_exporter": "python",
   "pygments_lexer": "ipython3",
   "version": "3.11.5"
  }
 },
 "nbformat": 4,
 "nbformat_minor": 5
}
