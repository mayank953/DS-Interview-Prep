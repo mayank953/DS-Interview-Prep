{
 "cells": [
  {
   "cell_type": "markdown",
   "id": "91048820-3f9b-4335-891d-b6fc5270a0c6",
   "metadata": {},
   "source": [
    "# Interview Questions"
   ]
  },
  {
   "cell_type": "markdown",
   "id": "bda07a04-2b14-4bb1-969b-f5754aca2f60",
   "metadata": {
    "tags": []
   },
   "source": [
    "What is a hyperparameter and how do you tune them?  - IBM"
   ]
  },
  {
   "cell_type": "code",
   "execution_count": null,
   "id": "f72f9979-0196-462a-b5ea-6281b7eef0c9",
   "metadata": {},
   "outputs": [],
   "source": [
    "How does a decision tree work and why is pruning important? - Infosys"
   ]
  },
  {
   "cell_type": "markdown",
   "id": "942f4eef-f252-4b10-8b1a-4efb349c0474",
   "metadata": {
    "tags": []
   },
   "source": [
    "Explain the concept of cross-validation. \n",
    "\n",
    "\n",
    "\n",
    "cross validation divides the training data set into training and validation data and this training and validation data change at every iteration. The number of iterations are determined in advance by a parameter known as cv."
   ]
  },
  {
   "cell_type": "code",
   "execution_count": null,
   "id": "73ab0915-76a6-4e5c-bb1e-b7be059573b2",
   "metadata": {},
   "outputs": [],
   "source": []
  },
  {
   "cell_type": "markdown",
   "id": "e6b6f8bc-081f-48bb-8c3b-35d85f515f86",
   "metadata": {},
   "source": [
    "What are the differences between bagging and boosting? (Accenture)"
   ]
  },
  {
   "cell_type": "code",
   "execution_count": null,
   "id": "da55b9a4-3e2c-4ce9-9ee5-b96122a8c7ec",
   "metadata": {},
   "outputs": [],
   "source": []
  },
  {
   "cell_type": "code",
   "execution_count": null,
   "id": "2806fa5e-513c-4cad-96f2-a6b6337665f5",
   "metadata": {},
   "outputs": [],
   "source": []
  }
 ],
 "metadata": {
  "kernelspec": {
   "display_name": "Python 3 (ipykernel)",
   "language": "python",
   "name": "python3"
  },
  "language_info": {
   "codemirror_mode": {
    "name": "ipython",
    "version": 3
   },
   "file_extension": ".py",
   "mimetype": "text/x-python",
   "name": "python",
   "nbconvert_exporter": "python",
   "pygments_lexer": "ipython3",
   "version": "3.11.5"
  }
 },
 "nbformat": 4,
 "nbformat_minor": 5
}
