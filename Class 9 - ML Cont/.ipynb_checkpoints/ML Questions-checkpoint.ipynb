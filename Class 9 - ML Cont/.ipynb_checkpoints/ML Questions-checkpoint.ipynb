{
 "cells": [
  {
   "cell_type": "markdown",
   "id": "04dec11c-c146-432d-98dc-2edb65446f3a",
   "metadata": {},
   "source": [
    "# We will not be having class tomorrow i.e. 26th May , will take class on weekday or extend a weekend."
   ]
  },
  {
   "cell_type": "code",
   "execution_count": null,
   "id": "b9aec761-0602-4319-a80b-e59258587d2a",
   "metadata": {},
   "outputs": [],
   "source": []
  },
  {
   "cell_type": "code",
   "execution_count": null,
   "id": "e171732c-9f83-465a-8fea-5f95a6ef6460",
   "metadata": {},
   "outputs": [],
   "source": [
    "How do you handle imbalanced datasets?   # Flipkart 23"
   ]
  },
  {
   "cell_type": "code",
   "execution_count": null,
   "id": "0c468dda-de95-4279-9a97-ba631f5c428a",
   "metadata": {},
   "outputs": [],
   "source": [
    "What is the purpose of a loss function in machine learning? # Linkedin 2023"
   ]
  },
  {
   "cell_type": "code",
   "execution_count": 1,
   "id": "bb20074c-be5f-4ab4-93c5-fa8e4fa1005f",
   "metadata": {
    "tags": []
   },
   "outputs": [
    {
     "ename": "SyntaxError",
     "evalue": "invalid syntax (697841381.py, line 1)",
     "output_type": "error",
     "traceback": [
      "\u001b[0;36m  Cell \u001b[0;32mIn[1], line 1\u001b[0;36m\u001b[0m\n\u001b[0;31m    Explain the concept of ensemble learning? # Microsoft 2023\u001b[0m\n\u001b[0m            ^\u001b[0m\n\u001b[0;31mSyntaxError\u001b[0m\u001b[0;31m:\u001b[0m invalid syntax\n"
     ]
    }
   ],
   "source": [
    "Explain the concept of ensemble learning? # Microsoft 2023"
   ]
  },
  {
   "cell_type": "code",
   "execution_count": null,
   "id": "eae2f12c-fe38-4bca-9540-b74ba70a805d",
   "metadata": {},
   "outputs": [],
   "source": [
    "What is transfer learning and when is it used? # Google 23"
   ]
  },
  {
   "cell_type": "code",
   "execution_count": null,
   "id": "d0dccd43-2e5f-4026-b786-fb1e2b58deab",
   "metadata": {},
   "outputs": [],
   "source": []
  },
  {
   "cell_type": "code",
   "execution_count": null,
   "id": "84e83f97-1088-4457-bdaa-aca48f95e756",
   "metadata": {},
   "outputs": [],
   "source": [
    "Describe how you would build a recommendation system for an e-commerce platform. # google 22 "
   ]
  },
  {
   "cell_type": "code",
   "execution_count": null,
   "id": "7f472bb0-74e3-4fdd-a060-7f49e1a71612",
   "metadata": {},
   "outputs": [],
   "source": []
  },
  {
   "cell_type": "code",
   "execution_count": null,
   "id": "a8ec20b8-6360-4bd9-9f66-5f52dbd93491",
   "metadata": {},
   "outputs": [],
   "source": []
  },
  {
   "cell_type": "code",
   "execution_count": null,
   "id": "917bf7a0-8c38-4e79-a18a-ddacedce3b9d",
   "metadata": {},
   "outputs": [],
   "source": [
    "Describe the importance of data normalization and standardization in preprocessing. #infosys 23"
   ]
  },
  {
   "cell_type": "code",
   "execution_count": null,
   "id": "35136994-b795-42a1-b706-eb39baf2d115",
   "metadata": {},
   "outputs": [],
   "source": []
  },
  {
   "cell_type": "code",
   "execution_count": null,
   "id": "05c309b6-7ec1-4718-808a-bcbaf24c57cb",
   "metadata": {},
   "outputs": [],
   "source": []
  },
  {
   "cell_type": "code",
   "execution_count": null,
   "id": "6cae647e-d5ff-4eb9-9f59-95ce292b2580",
   "metadata": {},
   "outputs": [],
   "source": []
  },
  {
   "cell_type": "markdown",
   "id": "e093a0d4-d714-4518-8e9f-f55e702eee79",
   "metadata": {},
   "source": [
    "#### Amazon (2023)\n",
    "\n",
    "1.  Explain the bias-variance tradeoff and how it impacts model performance.\n",
    "2.  Describe different types of cross-validation techniques and their applications.\n",
    "3.  What is the difference between bagging and boosting?\n",
    "4.  Explain the working of a Random Forest algorithm and its advantages over a single decision tree.\n",
    "\n",
    "#### Google (2022)\n",
    "\n",
    "1.  How would you handle an imbalanced dataset while training a model?\n",
    "2.  Explain A/B testing and its significance in data-driven decision making.\n",
    "3.  Describe how you would build a recommendation system for an e-commerce platform.\n",
    "4.  Discuss the concept of feature selection and why it is important.\n",
    "\n",
    "#### Flipkart (2022)\n",
    "\n",
    "1.  What are precision, recall, and F1 score, and how are they used to evaluate model performance?\n",
    "2.  Explain the concept of PCA (Principal Component Analysis) and its uses in data preprocessing.\n",
    "3.  Describe the differences between supervised and unsupervised learning with examples.\n",
    "4.  How would you approach cleaning a dataset with numerous missing values?\n",
    "\n",
    "#### TCS (2023)\n",
    "\n",
    "1.  Discuss the methods you would use to detect and handle outliers in a dataset.\n",
    "2.  Explain the concepts of underfitting and overfitting in machine learning models.\n",
    "3.  Describe how k-means clustering works and what is the significance of the 'k' in k-means.\n",
    "4.  How does logistic regression differ from linear regression?\n",
    "\n",
    "#### Infosys (2023)\n",
    "\n",
    "1.  What is the ROC curve, and how is it used to evaluate the performance of a classifier?\n",
    "2.  Explain the steps involved in building a predictive model from scratch.\n",
    "3.  Describe the importance of data normalization and standardization in preprocessing.\n",
    "4.  How do you evaluate the performance of a regression model?\n",
    "\n",
    "#### Wipro (2022)\n",
    "\n",
    "1.  What are some common pitfalls when performing exploratory data analysis (EDA)?\n",
    "2.  Explain the concept of L1 and L2 regularization and their impact on model training.\n",
    "3.  Describe different types of distance metrics used in clustering algorithms.\n",
    "4.  How would you deal with multicollinearity in a regression model?"
   ]
  },
  {
   "cell_type": "markdown",
   "id": "bfb7ef59-a1a5-4073-95aa-621c56518af1",
   "metadata": {
    "tags": []
   },
   "source": [
    "# What are some common pitfalls when performing exploratory data analysis (EDA)? \n",
    "\n",
    "Ignore Contrary Evidence\n",
    "\n",
    "\n"
   ]
  },
  {
   "cell_type": "code",
   "execution_count": null,
   "id": "2bc7a7b4-db86-46da-9fd7-6937fdc000c1",
   "metadata": {},
   "outputs": [],
   "source": []
  },
  {
   "cell_type": "code",
   "execution_count": 3,
   "id": "0b67e63a-147e-4696-90a6-a09d107d079d",
   "metadata": {
    "tags": []
   },
   "outputs": [
    {
     "ename": "SyntaxError",
     "evalue": "invalid syntax (1551769905.py, line 1)",
     "output_type": "error",
     "traceback": [
      "\u001b[0;36m  Cell \u001b[0;32mIn[3], line 1\u001b[0;36m\u001b[0m\n\u001b[0;31m    Linear Regression\u001b[0m\n\u001b[0m           ^\u001b[0m\n\u001b[0;31mSyntaxError\u001b[0m\u001b[0;31m:\u001b[0m invalid syntax\n"
     ]
    }
   ],
   "source": [
    "Linear Regression \n",
    "Logistic Regression\n",
    "\n",
    "Naive Bayes\n",
    "DT\n",
    "\n"
   ]
  },
  {
   "cell_type": "code",
   "execution_count": null,
   "id": "64c3279b-85ba-4900-9df2-d9122a993681",
   "metadata": {},
   "outputs": [],
   "source": []
  }
 ],
 "metadata": {
  "kernelspec": {
   "display_name": "Python 3 (ipykernel)",
   "language": "python",
   "name": "python3"
  },
  "language_info": {
   "codemirror_mode": {
    "name": "ipython",
    "version": 3
   },
   "file_extension": ".py",
   "mimetype": "text/x-python",
   "name": "python",
   "nbconvert_exporter": "python",
   "pygments_lexer": "ipython3",
   "version": "3.11.5"
  }
 },
 "nbformat": 4,
 "nbformat_minor": 5
}
